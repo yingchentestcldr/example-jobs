{
 "cells": [
  {
   "cell_type": "markdown",
   "metadata": {},
   "source": [
    "# 1. Initialize Spark Connect"
   ]
  },
  {
   "cell_type": "code",
   "execution_count": null,
   "metadata": {},
   "outputs": [],
   "source": [
    "import os\n",
    "from cde import CDESparkConnectSession\n",
    "\n",
    "spark = CDESparkConnectSession.builder.sessionName('testying').get()\n"
   ]
  },
  {
   "cell_type": "code",
   "execution_count": 2,
   "metadata": {},
   "outputs": [
    {
     "name": "stdout",
     "output_type": "stream",
     "text": [
      "3.5.1.1.23.7218.0-28\n"
     ]
    }
   ],
   "source": [
    "print(spark.version)"
   ]
  },
  {
   "cell_type": "markdown",
   "metadata": {},
   "source": [
    "# 2. Load Transaction Data"
   ]
  },
  {
   "cell_type": "code",
   "execution_count": 3,
   "metadata": {},
   "outputs": [
    {
     "name": "stdout",
     "output_type": "stream",
     "text": [
      "Sample Bank Transaction Data:\n",
      "+-------------+----------+------------+---------------+------+-----+\n",
      "|TransactionID|      Date|CustomerName|TransactionType|Amount|State|\n",
      "+-------------+----------+------------+---------------+------+-----+\n",
      "|            1|2024-11-20|       Alice|         Credit| 500.0|   NY|\n",
      "|            2|2024-11-20|         Bob|          Debit| 200.0|   CA|\n",
      "|            3|2024-11-21|       Alice|          Debit| 100.0|   NY|\n",
      "|            4|2024-11-21|       David|         Credit| 700.0|   TX|\n",
      "|            5|2024-11-22|      Edward|          Debit| 150.0|   CA|\n",
      "|            6|2024-11-22|       Alice|         Credit| 300.0|   NY|\n",
      "|            7|2024-11-22|       Alice|         Credit| 300.0|   NY|\n",
      "+-------------+----------+------------+---------------+------+-----+\n",
      "\n"
     ]
    }
   ],
   "source": [
    "\n",
    "from pyspark.sql.types import StructType, StructField, IntegerType, StringType, FloatType\n",
    "spark = CDESparkConnectSession.builder.sessionName('testying').get()\n",
    "\n",
    "# Define the schema explicitly\n",
    "schema = StructType([\n",
    "    StructField(\"TransactionID\", IntegerType(), True),\n",
    "    StructField(\"Date\", StringType(), True),\n",
    "    StructField(\"CustomerName\", StringType(), True),\n",
    "    StructField(\"TransactionType\", StringType(), True),\n",
    "    StructField(\"Amount\", FloatType(), True),  # Ensure Amount is float\n",
    "    StructField(\"State\", StringType(), True)\n",
    "])\n",
    "\n",
    "# Sample Bank Transaction Data\n",
    "data = [\n",
    "    (1, \"2024-11-20\", \"Alice\", \"Credit\", 500.00, \"NY\"),\n",
    "    (2, \"2024-11-20\", \"Bob\", \"Debit\", 200.00, \"CA\"),\n",
    "    (3, \"2024-11-21\", \"Alice\", \"Debit\", 100.00, \"NY\"),\n",
    "    (4, \"2024-11-21\", \"David\", \"Credit\", 700.00, \"TX\"),\n",
    "    (5, \"2024-11-22\", \"Edward\", \"Debit\", 150.00, \"CA\"),\n",
    "    (6, \"2024-11-22\", \"Alice\", \"Credit\", 300.00, \"NY\"),\n",
    "    (7, \"2024-11-22\", \"Alice\", \"Credit\", 300.00, \"NY\")  # Duplicate transaction\n",
    "]\n",
    "\n",
    "# Load data into a DataFrame with the schema\n",
    "df = spark.createDataFrame(data, schema=schema)\n",
    "df = df.withColumn(\"Amount\",  df[\"Amount\"].cast('float'))\n",
    "\n",
    "print(\"Sample Bank Transaction Data:\")\n",
    "df.show()\n"
   ]
  },
  {
   "cell_type": "markdown",
   "metadata": {},
   "source": [
    "# 3. Explore the Data"
   ]
  },
  {
   "cell_type": "markdown",
   "metadata": {},
   "source": [
    "### Data Description"
   ]
  },
  {
   "cell_type": "code",
   "execution_count": 4,
   "metadata": {},
   "outputs": [
    {
     "name": "stdout",
     "output_type": "stream",
     "text": [
      "Schema of the Data:\n",
      "root\n",
      " |-- TransactionID: integer (nullable = true)\n",
      " |-- Date: string (nullable = true)\n",
      " |-- CustomerName: string (nullable = true)\n",
      " |-- TransactionType: string (nullable = true)\n",
      " |-- Amount: float (nullable = true)\n",
      " |-- State: string (nullable = true)\n",
      "\n",
      "Summary Statistics:\n",
      "+-------+------------------+\n",
      "|summary|            Amount|\n",
      "+-------+------------------+\n",
      "|  count|                 7|\n",
      "|   mean|321.42857142857144|\n",
      "| stddev|211.85125060039744|\n",
      "|    min|             100.0|\n",
      "|    max|             700.0|\n",
      "+-------+------------------+\n",
      "\n"
     ]
    }
   ],
   "source": [
    "# Schema of the Data\n",
    "print(\"Schema of the Data:\")\n",
    "df.printSchema()\n",
    "\n",
    "# Summary Statistics\n",
    "print(\"Summary Statistics:\")\n",
    "df.describe([\"Amount\"]).show()"
   ]
  },
  {
   "cell_type": "markdown",
   "metadata": {},
   "source": [
    "### Aggregations by Transaction Type and State"
   ]
  },
  {
   "cell_type": "code",
   "execution_count": 5,
   "metadata": {},
   "outputs": [
    {
     "name": "stdout",
     "output_type": "stream",
     "text": [
      "Total Transactions by Transaction Type:\n",
      "+---------------+-----------------+\n",
      "|TransactionType|TotalTransactions|\n",
      "+---------------+-----------------+\n",
      "|         Credit|                4|\n",
      "|          Debit|                3|\n",
      "+---------------+-----------------+\n",
      "\n",
      "Max Transaction Amount per State:\n",
      "+-----+--------------------+\n",
      "|State|MaxTransactionAmount|\n",
      "+-----+--------------------+\n",
      "|   CA|               200.0|\n",
      "|   NY|               500.0|\n",
      "|   TX|               700.0|\n",
      "+-----+--------------------+\n",
      "\n"
     ]
    }
   ],
   "source": [
    "# Step 1: Register DataFrame as a temporary SQL table\n",
    "df.createOrReplaceTempView(\"transactions\")\n",
    "\n",
    "# Step 2: Total Transactions by Transaction Type using Spark SQL\n",
    "total_transactions_query = \"\"\"\n",
    "SELECT TransactionType, COUNT(*) AS TotalTransactions\n",
    "FROM transactions\n",
    "GROUP BY TransactionType\n",
    "\"\"\"\n",
    "\n",
    "# Execute the query and show the result\n",
    "total_transactions_df = spark.sql(total_transactions_query)\n",
    "print(\"Total Transactions by Transaction Type:\")\n",
    "total_transactions_df.show()\n",
    "\n",
    "# Step 3: Max Transaction Amount per State using Spark SQL\n",
    "max_transaction_query = \"\"\"\n",
    "SELECT State, MAX(Amount) AS MaxTransactionAmount\n",
    "FROM transactions\n",
    "GROUP BY State\n",
    "\"\"\"\n",
    "\n",
    "# Execute the query and show the result\n",
    "max_transaction_df = spark.sql(max_transaction_query)\n",
    "print(\"Max Transaction Amount per State:\")\n",
    "max_transaction_df.show()"
   ]
  },
  {
   "cell_type": "code",
   "execution_count": 6,
   "metadata": {},
   "outputs": [
    {
     "name": "stdout",
     "output_type": "stream",
     "text": [
      "Spark version: 3.5.1.1.23.7218.0-28\n"
     ]
    }
   ],
   "source": [
    "# Check Spark version (indicates SparkSession is active)\n",
    "try:\n",
    "    print(f\"Spark version: {spark.version}\")\n",
    "except NameError:\n",
    "    print(\"SparkSession has not been initialized.\")\n"
   ]
  },
  {
   "cell_type": "code",
   "execution_count": 7,
   "metadata": {},
   "outputs": [],
   "source": [
    "spark = CDESparkConnectSession.builder.sessionName('testying').get()"
   ]
  },
  {
   "cell_type": "code",
   "execution_count": 8,
   "metadata": {},
   "outputs": [
    {
     "data": {
      "image/png": "[encoded data removed]",
      "text/plain": [
       "<Figure size 800x500 with 1 Axes>"
      ]
     },
     "metadata": {},
     "output_type": "display_data"
    }
   ],
   "source": [
    "import matplotlib.pyplot as plt\n",
    "from pyspark.sql.functions import sum as _sum\n",
    "\n",
    "\n",
    "# Aggregate data for visualization\n",
    "df.createOrReplaceTempView(\"transactions\")\n",
    "agg_query = \"\"\"\n",
    "SELECT TransactionType, SUM(Amount) AS TotalAmount\n",
    "FROM transactions\n",
    "GROUP BY TransactionType\n",
    "\"\"\"\n",
    "agg_data = spark.sql(agg_query).collect()\n",
    "\n",
    "# Prepare data for plotting\n",
    "transaction_types = [row[\"TransactionType\"] for row in agg_data]\n",
    "total_amounts = [row[\"TotalAmount\"] for row in agg_data]\n",
    "\n",
    "# Create a bar chart\n",
    "plt.figure(figsize=(8, 5))\n",
    "plt.bar(transaction_types, total_amounts, color=\"skyblue\")\n",
    "plt.title(\"Total Amount by Transaction Type\")\n",
    "plt.xlabel(\"Transaction Type\")\n",
    "plt.ylabel(\"Total Amount\")\n",
    "plt.show()\n"
   ]
  },
  {
   "cell_type": "markdown",
   "metadata": {},
   "source": [
    "# 4. Test ETL Pipelines"
   ]
  },
  {
   "cell_type": "code",
   "execution_count": 9,
   "metadata": {},
   "outputs": [
    {
     "name": "stdout",
     "output_type": "stream",
     "text": [
      "Transformed data saved to output/transformed_bank_transactions.parquet\n"
     ]
    }
   ],
   "source": [
    "from pyspark.sql.functions import col\n",
    "\n",
    "# Remove duplicate transactions\n",
    "dedup_df = df.dropDuplicates()\n",
    "\n",
    "# Filter transactions with Amount > 200\n",
    "filtered_query = \"\"\"\n",
    "SELECT * \n",
    "FROM transactions\n",
    "WHERE Amount > 200\n",
    "\"\"\"\n",
    "\n",
    "# Execute the SQL query and get the result as a DataFrame\n",
    "filtered_df = spark.sql(filtered_query)\n",
    "\n",
    "# Save the transformed data to a Parquet file\n",
    "output_path = \"output/transformed_bank_transactions.parquet\"\n",
    "filtered_df.write.mode(\"overwrite\").parquet(output_path)\n",
    "\n",
    "print(f\"Transformed data saved to {output_path}\")"
   ]
  },
  {
   "cell_type": "markdown",
   "metadata": {},
   "source": [
    "# 5. Show Final Transformed Data"
   ]
  },
  {
   "cell_type": "code",
   "execution_count": 10,
   "metadata": {},
   "outputs": [
    {
     "name": "stdout",
     "output_type": "stream",
     "text": [
      "Final Transformed Data:\n",
      "+-------------+----------+------------+---------------+------+-----+\n",
      "|TransactionID|      Date|CustomerName|TransactionType|Amount|State|\n",
      "+-------------+----------+------------+---------------+------+-----+\n",
      "|            1|2024-11-20|       Alice|         Credit| 500.0|   NY|\n",
      "|            4|2024-11-21|       David|         Credit| 700.0|   TX|\n",
      "|            6|2024-11-22|       Alice|         Credit| 300.0|   NY|\n",
      "|            7|2024-11-22|       Alice|         Credit| 300.0|   NY|\n",
      "+-------------+----------+------------+---------------+------+-----+\n",
      "\n"
     ]
    }
   ],
   "source": [
    "# Show the final transformed data\n",
    "print(\"Final Transformed Data:\")\n",
    "filtered_df.show()"
   ]
  },
  {
   "cell_type": "markdown",
   "metadata": {},
   "source": [
    "# 6. Stop Spark Session"
   ]
  },
  {
   "cell_type": "code",
   "execution_count": 11,
   "metadata": {},
   "outputs": [
    {
     "name": "stdout",
     "output_type": "stream",
     "text": [
      "Spark Session Stopped.\n"
     ]
    }
   ],
   "source": [
    "# Stop the Spark session\n",
    "spark.stop()\n",
    "print(\"Spark Session Stopped.\")\n"
   ]
  }
 ],
 "metadata": {
  "kernelspec": {
   "display_name": "base",
   "language": "python",
   "name": "python3"
  },
  "language_info": {
   "codemirror_mode": {
    "name": "ipython",
    "version": 3
   },
   "file_extension": ".py",
   "mimetype": "text/x-python",
   "name": "python",
   "nbconvert_exporter": "python",
   "pygments_lexer": "ipython3",
   "version": "3.12.2"
  }
 },
 "nbformat": 4,
 "nbformat_minor": 2
}
